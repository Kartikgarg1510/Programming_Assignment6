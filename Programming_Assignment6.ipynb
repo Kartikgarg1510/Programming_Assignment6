{
 "cells": [
  {
   "cell_type": "markdown",
   "id": "6c68dfff-39e0-497d-af96-a53efb94c240",
   "metadata": {},
   "source": [
    "# 1. Write a Python Program to Display Fibonacci Sequence Using Recursion?"
   ]
  },
  {
   "cell_type": "code",
   "execution_count": 21,
   "id": "cc90ff55-fb98-4e44-903e-f9cc0d6fe88e",
   "metadata": {},
   "outputs": [
    {
     "name": "stdout",
     "output_type": "stream",
     "text": [
      "1\n",
      "1\n",
      "2\n",
      "3\n",
      "5\n",
      "8\n",
      "13\n",
      "21\n",
      "34\n"
     ]
    }
   ],
   "source": [
    "a = 0\n",
    "b = 1\n",
    "for i in range(1,10):\n",
    "    a,b = b,a+b\n",
    "    print(a)"
   ]
  },
  {
   "cell_type": "markdown",
   "id": "488aa7f6-4413-4094-8211-ec08d3dd96d6",
   "metadata": {},
   "source": [
    "# 2. Write a Python Program to Find Factorial of Number Using Recursion?"
   ]
  },
  {
   "cell_type": "code",
   "execution_count": 7,
   "id": "139f7378-8355-4120-803d-16d91c737051",
   "metadata": {},
   "outputs": [
    {
     "name": "stdin",
     "output_type": "stream",
     "text": [
      "Enter a number:  5\n"
     ]
    },
    {
     "name": "stdout",
     "output_type": "stream",
     "text": [
      "Factorial of 5 is: 120\n"
     ]
    }
   ],
   "source": [
    "num = int(input(\"Enter a number: \"))\n",
    "fact = 1\n",
    "\n",
    "if num < 0:\n",
    "    print(\"Factorial is not defined for negative numbers.\")\n",
    "else:\n",
    "    for i in range(1, num + 1):\n",
    "        fact *= i\n",
    "    print(f\"Factorial of {num} is: {fact}\")"
   ]
  },
  {
   "cell_type": "markdown",
   "id": "747a2784-6abc-462b-9002-622cbb1addf6",
   "metadata": {},
   "source": [
    "# 3. Write a Python Program to calculate your Body Mass Index?"
   ]
  },
  {
   "cell_type": "code",
   "execution_count": 1,
   "id": "4d83bcba-942f-48ea-ae45-9e86619f8e67",
   "metadata": {},
   "outputs": [
    {
     "name": "stdin",
     "output_type": "stream",
     "text": [
      "Enter your Weight (in KG):  72\n",
      "Enter your Height (in meters or cm):  165.1\n"
     ]
    },
    {
     "name": "stdout",
     "output_type": "stream",
     "text": [
      "Your BMI is: 26.414254011939974\n"
     ]
    }
   ],
   "source": [
    "weight = float(input(\"Enter your Weight (in KG): \"))\n",
    "height = float(input(\"Enter your Height (in meters or cm): \"))\n",
    "\n",
    "if height > 10:\n",
    "    height = height / 100\n",
    "BMI = weight/(height**2)\n",
    "print(f\"Your BMI is: {BMI}\")"
   ]
  },
  {
   "cell_type": "markdown",
   "id": "6fb17a75-cf04-469b-a0a7-13225e68534c",
   "metadata": {},
   "source": [
    "# 4. Write a Python Program to calculate the natural logarithm of any number?"
   ]
  },
  {
   "cell_type": "code",
   "execution_count": 39,
   "id": "e08b771b-2261-4919-80e7-19b8b9d5c296",
   "metadata": {},
   "outputs": [
    {
     "name": "stdin",
     "output_type": "stream",
     "text": [
      "Enter the number:  2\n"
     ]
    },
    {
     "name": "stdout",
     "output_type": "stream",
     "text": [
      "0.6931471805599453\n"
     ]
    }
   ],
   "source": [
    "import math\n",
    "x = int(input(\"Enter the number: \"))\n",
    "if x > 0:\n",
    "    print(math.log(x))\n",
    "else\n",
    "    print(\"Logarithm is undefined for zero or negative numbers.\")\n",
    "    "
   ]
  },
  {
   "cell_type": "markdown",
   "id": "ea6822ce-ff05-4a27-b1c2-8434edfc9033",
   "metadata": {},
   "source": [
    "# 5. Write a Python Program for cube sum of first n natural numbers?"
   ]
  },
  {
   "cell_type": "code",
   "execution_count": 3,
   "id": "4d3931c2-4d55-48d1-aaa9-4598283c436a",
   "metadata": {},
   "outputs": [
    {
     "name": "stdin",
     "output_type": "stream",
     "text": [
      "Enter a positive integer (n):  3\n"
     ]
    },
    {
     "name": "stdout",
     "output_type": "stream",
     "text": [
      "The sum of the first 3 natural number is: 36\n"
     ]
    }
   ],
   "source": [
    "n = int(input(\"Enter a positive integer (n): \"))\n",
    "sum_of_n_natural_num = ((n * (n + 1)) // 2) ** 2\n",
    "print(f\"The sum of the first {n} natural number is: {sum_of_n_natural_num}\")"
   ]
  },
  {
   "cell_type": "code",
   "execution_count": null,
   "id": "c0183f6e-b199-4f93-8539-f3244678ae28",
   "metadata": {},
   "outputs": [],
   "source": []
  }
 ],
 "metadata": {
  "kernelspec": {
   "display_name": "Python [conda env:base] *",
   "language": "python",
   "name": "conda-base-py"
  },
  "language_info": {
   "codemirror_mode": {
    "name": "ipython",
    "version": 3
   },
   "file_extension": ".py",
   "mimetype": "text/x-python",
   "name": "python",
   "nbconvert_exporter": "python",
   "pygments_lexer": "ipython3",
   "version": "3.12.7"
  }
 },
 "nbformat": 4,
 "nbformat_minor": 5
}
